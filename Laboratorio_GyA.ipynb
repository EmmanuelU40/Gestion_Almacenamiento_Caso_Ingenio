{
  "nbformat": 4,
  "nbformat_minor": 0,
  "metadata": {
    "colab": {
      "provenance": []
    },
    "kernelspec": {
      "name": "python3",
      "display_name": "Python 3"
    },
    "language_info": {
      "name": "python"
    }
  },
  "cells": [
    {
      "cell_type": "code",
      "execution_count": null,
      "metadata": {
        "id": "4g2da5IduJ-t"
      },
      "outputs": [],
      "source": [
        "import pandas as pd\n",
        "import numpy as np\n",
        "import matplotlib.pyplot as plt\n",
        "import seaborn as sns"
      ]
    },
    {
      "cell_type": "code",
      "source": [
        "df = pd.read_excel(\"Dataset_Clientes_Colombia.xlsx\", engine='openpyxl')"
      ],
      "metadata": {
        "id": "TZxzRlm6zPm6"
      },
      "execution_count": null,
      "outputs": []
    },
    {
      "cell_type": "code",
      "source": [
        "# Mostrar las primeras filas del dataset\n",
        "print(\"Primeras filas del dataset:\")\n",
        "print(df.head())"
      ],
      "metadata": {
        "colab": {
          "base_uri": "https://localhost:8080/"
        },
        "id": "s8FR3NYcu7tO",
        "outputId": "ae9d6f7a-9172-4d30-af78-ec409c2fee47"
      },
      "execution_count": null,
      "outputs": [
        {
          "output_type": "stream",
          "name": "stdout",
          "text": [
            "Primeras filas del dataset:\n",
            "  ID Compra    Nombre   Apellido Electrodoméstico  Cantidad  Valor Unitario  \\\n",
            "0  CL-00001    Marcia      PARRA           Nevera       5.0         1800000   \n",
            "1  CL-00002   Alfonso       ROMA          Plancha       1.0          150000   \n",
            "2  CL-00003       NaN     DUE%AS  Horno eléctrico       3.0          500000   \n",
            "3  CL-00004   Gonzalo  SEBASTIÁN        Licuadora       3.0          250000   \n",
            "4  CL-00005  Ambrosio       PRAT         Lavadora       5.0         1500000   \n",
            "\n",
            "   Valor Total Fecha Compra Hora Compra  \n",
            "0      9000000   2023-07-12    03:27:54  \n",
            "1       150000   2023-01-16    04:34:05  \n",
            "2      1500000   2022-09-21    20:18:45  \n",
            "3       750000   2024-05-23    15:39:00  \n",
            "4      7500000   2022-09-08    13:57:58  \n"
          ]
        }
      ]
    },
    {
      "cell_type": "code",
      "source": [
        "#Nulos\n",
        "total_nulos = df.isnull().sum()\n",
        "print(\"\\nCantidad de valores nulos por columna:\")\n",
        "total_nulos"
      ],
      "metadata": {
        "colab": {
          "base_uri": "https://localhost:8080/",
          "height": 401
        },
        "id": "EXLmOtI2vF5h",
        "outputId": "75e51a41-d652-4572-ae12-c1d864c0e1a4"
      },
      "execution_count": null,
      "outputs": [
        {
          "output_type": "stream",
          "name": "stdout",
          "text": [
            "\n",
            "Cantidad de valores nulos por columna:\n"
          ]
        },
        {
          "output_type": "execute_result",
          "data": {
            "text/plain": [
              "ID Compra            0\n",
              "Nombre              21\n",
              "Apellido            20\n",
              "Electrodoméstico    21\n",
              "Cantidad            10\n",
              "Valor Unitario       0\n",
              "Valor Total          0\n",
              "Fecha Compra         0\n",
              "Hora Compra          0\n",
              "dtype: int64"
            ],
            "text/html": [
              "<div>\n",
              "<style scoped>\n",
              "    .dataframe tbody tr th:only-of-type {\n",
              "        vertical-align: middle;\n",
              "    }\n",
              "\n",
              "    .dataframe tbody tr th {\n",
              "        vertical-align: top;\n",
              "    }\n",
              "\n",
              "    .dataframe thead th {\n",
              "        text-align: right;\n",
              "    }\n",
              "</style>\n",
              "<table border=\"1\" class=\"dataframe\">\n",
              "  <thead>\n",
              "    <tr style=\"text-align: right;\">\n",
              "      <th></th>\n",
              "      <th>0</th>\n",
              "    </tr>\n",
              "  </thead>\n",
              "  <tbody>\n",
              "    <tr>\n",
              "      <th>ID Compra</th>\n",
              "      <td>0</td>\n",
              "    </tr>\n",
              "    <tr>\n",
              "      <th>Nombre</th>\n",
              "      <td>21</td>\n",
              "    </tr>\n",
              "    <tr>\n",
              "      <th>Apellido</th>\n",
              "      <td>20</td>\n",
              "    </tr>\n",
              "    <tr>\n",
              "      <th>Electrodoméstico</th>\n",
              "      <td>21</td>\n",
              "    </tr>\n",
              "    <tr>\n",
              "      <th>Cantidad</th>\n",
              "      <td>10</td>\n",
              "    </tr>\n",
              "    <tr>\n",
              "      <th>Valor Unitario</th>\n",
              "      <td>0</td>\n",
              "    </tr>\n",
              "    <tr>\n",
              "      <th>Valor Total</th>\n",
              "      <td>0</td>\n",
              "    </tr>\n",
              "    <tr>\n",
              "      <th>Fecha Compra</th>\n",
              "      <td>0</td>\n",
              "    </tr>\n",
              "    <tr>\n",
              "      <th>Hora Compra</th>\n",
              "      <td>0</td>\n",
              "    </tr>\n",
              "  </tbody>\n",
              "</table>\n",
              "</div><br><label><b>dtype:</b> int64</label>"
            ]
          },
          "metadata": {},
          "execution_count": 4
        }
      ]
    },
    {
      "cell_type": "code",
      "source": [
        "#Identificar y contar valores vacíos (celdas con strings vacíos o espacios)\n",
        "valores_vacios = df.isnull().any()\n",
        "valores_vacios"
      ],
      "metadata": {
        "colab": {
          "base_uri": "https://localhost:8080/",
          "height": 366
        },
        "id": "VOJ4u61uvLkk",
        "outputId": "d9e6928e-a20d-469f-f3e5-ded6bb436f98"
      },
      "execution_count": null,
      "outputs": [
        {
          "output_type": "execute_result",
          "data": {
            "text/plain": [
              "ID Compra           False\n",
              "Nombre               True\n",
              "Apellido             True\n",
              "Electrodoméstico     True\n",
              "Cantidad             True\n",
              "Valor Unitario      False\n",
              "Valor Total         False\n",
              "Fecha Compra        False\n",
              "Hora Compra         False\n",
              "dtype: bool"
            ],
            "text/html": [
              "<div>\n",
              "<style scoped>\n",
              "    .dataframe tbody tr th:only-of-type {\n",
              "        vertical-align: middle;\n",
              "    }\n",
              "\n",
              "    .dataframe tbody tr th {\n",
              "        vertical-align: top;\n",
              "    }\n",
              "\n",
              "    .dataframe thead th {\n",
              "        text-align: right;\n",
              "    }\n",
              "</style>\n",
              "<table border=\"1\" class=\"dataframe\">\n",
              "  <thead>\n",
              "    <tr style=\"text-align: right;\">\n",
              "      <th></th>\n",
              "      <th>0</th>\n",
              "    </tr>\n",
              "  </thead>\n",
              "  <tbody>\n",
              "    <tr>\n",
              "      <th>ID Compra</th>\n",
              "      <td>False</td>\n",
              "    </tr>\n",
              "    <tr>\n",
              "      <th>Nombre</th>\n",
              "      <td>True</td>\n",
              "    </tr>\n",
              "    <tr>\n",
              "      <th>Apellido</th>\n",
              "      <td>True</td>\n",
              "    </tr>\n",
              "    <tr>\n",
              "      <th>Electrodoméstico</th>\n",
              "      <td>True</td>\n",
              "    </tr>\n",
              "    <tr>\n",
              "      <th>Cantidad</th>\n",
              "      <td>True</td>\n",
              "    </tr>\n",
              "    <tr>\n",
              "      <th>Valor Unitario</th>\n",
              "      <td>False</td>\n",
              "    </tr>\n",
              "    <tr>\n",
              "      <th>Valor Total</th>\n",
              "      <td>False</td>\n",
              "    </tr>\n",
              "    <tr>\n",
              "      <th>Fecha Compra</th>\n",
              "      <td>False</td>\n",
              "    </tr>\n",
              "    <tr>\n",
              "      <th>Hora Compra</th>\n",
              "      <td>False</td>\n",
              "    </tr>\n",
              "  </tbody>\n",
              "</table>\n",
              "</div><br><label><b>dtype:</b> bool</label>"
            ]
          },
          "metadata": {},
          "execution_count": 5
        }
      ]
    },
    {
      "cell_type": "code",
      "source": [
        "#Identificar y contar filas duplicadas\n",
        "duplicados_con_id = df.duplicated().sum()\n",
        "duplicados_sin_id = df.drop(columns=['ID Compra']).duplicated().sum()\n",
        "print(f\"\\nFilas duplicadas considerando ID: {duplicados_con_id}\")\n",
        "print(f\"Filas duplicadas sin considerar ID: {duplicados_sin_id}\")"
      ],
      "metadata": {
        "colab": {
          "base_uri": "https://localhost:8080/"
        },
        "id": "bR3G8aafve8w",
        "outputId": "1d44fb5b-3b80-4c48-9948-42a82e23e0b9"
      },
      "execution_count": null,
      "outputs": [
        {
          "output_type": "stream",
          "name": "stdout",
          "text": [
            "\n",
            "Filas duplicadas considerando ID: 0\n",
            "Filas duplicadas sin considerar ID: 21\n"
          ]
        }
      ]
    },
    {
      "cell_type": "code",
      "source": [
        "#Verificar formatos inconsistentes\n",
        "# Fecha\n",
        "df['Fecha Compra'] = pd.to_datetime(df['Fecha Compra'], errors='coerce')\n",
        "fechas_invalidas = df['Fecha Compra'].isnull().sum()\n",
        "print(f\"\\nCantidad de fechas inválidas: {fechas_invalidas}\")"
      ],
      "metadata": {
        "colab": {
          "base_uri": "https://localhost:8080/"
        },
        "id": "1Ma2P5AvvhLl",
        "outputId": "4be64e9c-6c58-41bc-fdb1-4a29bc938a44"
      },
      "execution_count": null,
      "outputs": [
        {
          "output_type": "stream",
          "name": "stdout",
          "text": [
            "\n",
            "Cantidad de fechas inválidas: 150\n"
          ]
        }
      ]
    },
    {
      "cell_type": "code",
      "source": [
        "#Nombres\n",
        "def check_nombre_apellido(nombre):\n",
        "    if not isinstance(nombre, str) or pd.isna(nombre):\n",
        "        return True\n",
        "    return not nombre.replace(\" \", \"\").isalpha() or not nombre.istitle()\n",
        "\n",
        "nombres_invalidos = df['Nombre'].apply(check_nombre_apellido).sum()\n",
        "apellidos_invalidos = df['Apellido'].apply(check_nombre_apellido).sum()\n",
        "\n",
        "print(f\"\\nCantidad de nombres inválidos: {nombres_invalidos}\")\n",
        "print(f\"Cantidad de apellidos inválidos: {apellidos_invalidos}\")"
      ],
      "metadata": {
        "colab": {
          "base_uri": "https://localhost:8080/"
        },
        "id": "9S1Wp83_vsT-",
        "outputId": "91969c3d-1c5e-4070-8520-a57e86e20dc5"
      },
      "execution_count": null,
      "outputs": [
        {
          "output_type": "stream",
          "name": "stdout",
          "text": [
            "\n",
            "Cantidad de nombres inválidos: 651\n",
            "Cantidad de apellidos inválidos: 11275\n"
          ]
        }
      ]
    },
    {
      "cell_type": "code",
      "source": [
        "#valores numéricos en Cantidad, Valor Unitario y Valor Total\n",
        "cantidad_invalidos = (df['Cantidad'] <= 0).sum()\n",
        "valor_unitario_invalidos = (df['Valor Unitario'] <= 0).sum()\n",
        "valor_total_invalidos = (df['Valor Total'] != df['Cantidad'] * df['Valor Unitario']).sum()\n",
        "\n",
        "print(f\"\\nCantidad de valores inválidos en 'Cantidad': {cantidad_invalidos}\")\n",
        "print(f\"Cantidad de valores inválidos en 'Valor Unitario': {valor_unitario_invalidos}\")\n",
        "print(f\"Cantidad de inconsistencias en 'Valor Total': {valor_total_invalidos}\")"
      ],
      "metadata": {
        "colab": {
          "base_uri": "https://localhost:8080/"
        },
        "id": "btVD6n3Cw50j",
        "outputId": "181a1427-9fcd-480a-fa18-cf391600252f"
      },
      "execution_count": null,
      "outputs": [
        {
          "output_type": "stream",
          "name": "stdout",
          "text": [
            "\n",
            "Cantidad de valores inválidos en 'Cantidad': 0\n",
            "Cantidad de valores inválidos en 'Valor Unitario': 0\n",
            "Cantidad de inconsistencias en 'Valor Total': 10\n"
          ]
        }
      ]
    },
    {
      "cell_type": "code",
      "source": [
        "#Limpiar nombres y apellidos\n",
        "def clean_nombre_apellido(nombre):\n",
        "    if pd.isna(nombre) or not isinstance(nombre, str):\n",
        "        return \"Desconocido\"\n",
        "    return nombre.strip().title()\n",
        "\n",
        "df['Nombre'] = df['Nombre'].apply(clean_nombre_apellido)\n",
        "df['Apellido'] = df['Apellido'].apply(clean_nombre_apellido)"
      ],
      "metadata": {
        "id": "oNOVC80Vw7nV"
      },
      "execution_count": null,
      "outputs": []
    },
    {
      "cell_type": "code",
      "source": [
        "#Fecha\n",
        "df['Fecha Compra'] = pd.to_datetime(df['Fecha Compra'], errors='coerce')"
      ],
      "metadata": {
        "id": "v6AuZSSVxPy8"
      },
      "execution_count": null,
      "outputs": []
    },
    {
      "cell_type": "code",
      "source": [
        "# Imputación de valores nulos\n",
        "df['Cantidad'] = df['Cantidad'].fillna(df['Cantidad'].median())\n",
        "df['Valor Unitario'] = df['Valor Unitario'].fillna(df['Valor Unitario'].median())\n",
        "\n",
        "# Recalcular el valor total después de imputar valores\n",
        "df['Valor Total'] = df['Cantidad'] * df['Valor Unitario']\n"
      ],
      "metadata": {
        "id": "f7Nmfd4sxTX8"
      },
      "execution_count": null,
      "outputs": []
    },
    {
      "cell_type": "code",
      "source": [
        "# 4. Eliminar duplicados reales\n",
        "df.drop_duplicates(inplace=True)"
      ],
      "metadata": {
        "id": "DC9Hj_EJxYel"
      },
      "execution_count": null,
      "outputs": []
    },
    {
      "cell_type": "code",
      "source": [
        "# Asegurar que 'Fecha Compra' esté en formato de fecha\n",
        "df['Fecha Compra'] = pd.to_datetime(df['Fecha Compra'], errors='coerce')\n",
        "\n",
        "# Extraer año y mes en formato entero\n",
        "df['Año de compra'] = df['Fecha Compra'].dt.year.astype('Int64')\n",
        "df['Mes de compra'] = df['Fecha Compra'].dt.month.astype('Int64')\n",
        "\n",
        "print(\"Año y Mes de Compra:\")\n",
        "print(df[['Fecha Compra', 'Año de compra', 'Mes de compra']].head())\n",
        "\n",
        "# Asegurar que 'Hora Compra' esté en formato correcto\n",
        "df['Hora Compra'] = pd.to_datetime(df['Hora Compra'], format='%H:%M:%S', errors='coerce').dt.time\n",
        "\n",
        "# Extraer solo la hora como número entero\n",
        "df['Hora de compra'] = pd.to_datetime(df['Hora Compra'], format='%H:%M:%S', errors='coerce').dt.hour.astype('Int64')\n",
        "\n",
        "print(\"\\nHora de Compra:\")\n",
        "print(df[['Hora Compra', 'Hora de compra']].head())\n",
        "\n"
      ],
      "metadata": {
        "colab": {
          "base_uri": "https://localhost:8080/"
        },
        "id": "7QhlPs-Azvln",
        "outputId": "278d587e-029a-40fe-d3c1-3333dff8cd8c"
      },
      "execution_count": null,
      "outputs": [
        {
          "output_type": "stream",
          "name": "stdout",
          "text": [
            "Año y Mes de Compra:\n",
            "  Fecha Compra  Año de compra  Mes de compra\n",
            "0   2023-07-12           2023              7\n",
            "1   2023-01-16           2023              1\n",
            "2   2022-09-21           2022              9\n",
            "3   2024-05-23           2024              5\n",
            "4   2022-09-08           2022              9\n",
            "\n",
            "Hora de Compra:\n",
            "  Hora Compra  Hora de compra\n",
            "0    03:27:54               3\n",
            "1    04:34:05               4\n",
            "2    20:18:45              20\n",
            "3    15:39:00              15\n",
            "4    13:57:58              13\n"
          ]
        }
      ]
    },
    {
      "cell_type": "code",
      "source": [
        "#Clasificar electrodomésticos por categoría\n",
        "def clasificar_electrodomestico(producto):\n",
        "    categorias = {\n",
        "        'Cocina': ['Nevera', 'Horno', 'Microondas', 'Licuadora'],\n",
        "        'Confort': ['Aire Acondicionado', 'Ventilador', 'Calefactor'],\n",
        "        'Limpieza': ['Lavadora', 'Aspiradora'],\n",
        "        'Entretenimiento': ['Televisor', 'Equipo de Sonido']\n",
        "    }\n",
        "    for categoria, productos in categorias.items():\n",
        "        if producto in productos:\n",
        "            return categoria\n",
        "    return 'Otros'\n",
        "\n",
        "df['Categoría Electrodoméstico'] = df['Electrodoméstico'].apply(clasificar_electrodomestico)\n"
      ],
      "metadata": {
        "id": "fnfZea6ZyWOx"
      },
      "execution_count": null,
      "outputs": []
    },
    {
      "cell_type": "code",
      "source": [
        "#Guardar el nuevo archivo Excel\n",
        "df.to_excel(\"Dataset_Clientes_Colombia_Transformado.xlsx\", index=False)\n",
        "\n",
        "print(\"\\nTransformaciones completadas y archivo guardado como 'Dataset_Clientes_Colombia_Transformado.xlsx'\")"
      ],
      "metadata": {
        "id": "6eRw5KCWyYOB",
        "outputId": "4ae00fca-bc57-4dee-e61d-c0cb6ad3397b",
        "colab": {
          "base_uri": "https://localhost:8080/"
        }
      },
      "execution_count": null,
      "outputs": [
        {
          "output_type": "stream",
          "name": "stdout",
          "text": [
            "\n",
            "Transformaciones completadas y archivo guardado como 'Dataset_Clientes_Colombia_Transformado.xlsx'\n"
          ]
        }
      ]
    },
    {
      "cell_type": "code",
      "source": [
        "# 1. ¿Cuál es el electrodoméstico más vendido por cantidad?\n",
        "mas_vendido = df.groupby('Electrodoméstico')['Cantidad'].sum().idxmax()\n",
        "cantidad_mas_vendido = df.groupby('Electrodoméstico')['Cantidad'].sum().max()\n",
        "print(f\"1. Electrodoméstico más vendido: {mas_vendido} ({cantidad_mas_vendido} unidades)\")"
      ],
      "metadata": {
        "colab": {
          "base_uri": "https://localhost:8080/"
        },
        "id": "pyVPftJA1AVP",
        "outputId": "8450ff5d-4fd0-47f9-e453-3d0249f97501"
      },
      "execution_count": null,
      "outputs": [
        {
          "output_type": "stream",
          "name": "stdout",
          "text": [
            "1. Electrodoméstico más vendido: Plancha (3517.0 unidades)\n"
          ]
        }
      ]
    },
    {
      "cell_type": "code",
      "source": [
        "# 2. ¿Cuál generó más ingresos (Valor Total)?\n",
        "mas_ingresos = df.groupby('Electrodoméstico')['Valor Total'].sum().idxmax()\n",
        "ingresos_mas_ingresos = df.groupby('Electrodoméstico')['Valor Total'].sum().max()\n",
        "plt.figure(figsize=(10, 5))\n",
        "top_ingresos = df.groupby('Electrodoméstico')['Valor Total'].sum().nlargest(5)\n",
        "sns.barplot(x=top_ingresos.index, y=top_ingresos.values)\n",
        "plt.title(\"Top 5 Electrodomésticos con Más Ingresos\")\n",
        "plt.ylabel(\"Ingresos Totales\")\n",
        "plt.xticks(rotation=45)\n",
        "plt.show()"
      ],
      "metadata": {
        "colab": {
          "base_uri": "https://localhost:8080/",
          "height": 426
        },
        "id": "BMi3KXe91LRl",
        "outputId": "baf5d7e6-c125-48ad-8896-85a15efd7847"
      },
      "execution_count": null,
      "outputs": [
        {
          "output_type": "display_data",
          "data": {
            "text/plain": [
              "<Figure size 1000x500 with 1 Axes>"
            ],
            "image/png": "[encoded data removed]"
          },
          "metadata": {}
        }
      ]
    },
    {
      "cell_type": "code",
      "source": [
        "# 3. ¿Cuál es el ticket promedio por compra?\n",
        "ticket_promedio = df['Valor Total'].mean()\n",
        "print(f\"3. Ticket promedio por compra: ${ticket_promedio:,.2f}\")"
      ],
      "metadata": {
        "colab": {
          "base_uri": "https://localhost:8080/"
        },
        "id": "YTuOUtiY1PkL",
        "outputId": "05496a02-bd30-4f9c-eae0-b59e111e5ef1"
      },
      "execution_count": null,
      "outputs": [
        {
          "output_type": "stream",
          "name": "stdout",
          "text": [
            "3. Ticket promedio por compra: $2,050,895.79\n"
          ]
        }
      ]
    },
    {
      "cell_type": "code",
      "source": [
        "# 4. ¿Cuántas compras se realizaron por año?\n",
        "compras_por_anio = df['Año de compra'].value_counts().sort_index()\n",
        "plt.figure(figsize=(8, 5))\n",
        "sns.countplot(x=df['Año de compra'], palette='viridis')\n",
        "plt.title(\"Compras por Año\")\n",
        "plt.xlabel(\"Año\")\n",
        "plt.ylabel(\"Cantidad de Compras\")\n",
        "plt.show()"
      ],
      "metadata": {
        "colab": {
          "base_uri": "https://localhost:8080/",
          "height": 544
        },
        "id": "9wVbhgiS1Sbo",
        "outputId": "0d3dae8a-5699-45fa-ddbc-12b6eb88ae23"
      },
      "execution_count": null,
      "outputs": [
        {
          "output_type": "stream",
          "name": "stderr",
          "text": [
            "<ipython-input-20-c4783a5f6e76>:4: FutureWarning: \n",
            "\n",
            "Passing `palette` without assigning `hue` is deprecated and will be removed in v0.14.0. Assign the `x` variable to `hue` and set `legend=False` for the same effect.\n",
            "\n",
            "  sns.countplot(x=df['Año de compra'], palette='viridis')\n"
          ]
        },
        {
          "output_type": "display_data",
          "data": {
            "text/plain": [
              "<Figure size 800x500 with 1 Axes>"
            ],
            "image/png": "[encoded data removed]"
          },
          "metadata": {}
        }
      ]
    },
    {
      "cell_type": "code",
      "source": [
        "# 5. ¿Y por mes?\n",
        "compras_por_mes = df['Mes de compra'].value_counts().sort_index()\n",
        "plt.figure(figsize=(8, 5))\n",
        "sns.countplot(x=df['Mes de compra'], palette='coolwarm')\n",
        "plt.title(\"Compras por Mes\")\n",
        "plt.xlabel(\"Mes\")\n",
        "plt.ylabel(\"Cantidad de Compras\")\n",
        "plt.show()"
      ],
      "metadata": {
        "colab": {
          "base_uri": "https://localhost:8080/",
          "height": 544
        },
        "id": "BxoyH2vl1aJr",
        "outputId": "ed5acda4-c3a2-4443-e0b0-d477993c37e0"
      },
      "execution_count": null,
      "outputs": [
        {
          "output_type": "stream",
          "name": "stderr",
          "text": [
            "<ipython-input-21-1e1802db03bf>:4: FutureWarning: \n",
            "\n",
            "Passing `palette` without assigning `hue` is deprecated and will be removed in v0.14.0. Assign the `x` variable to `hue` and set `legend=False` for the same effect.\n",
            "\n",
            "  sns.countplot(x=df['Mes de compra'], palette='coolwarm')\n"
          ]
        },
        {
          "output_type": "display_data",
          "data": {
            "text/plain": [
              "<Figure size 800x500 with 1 Axes>"
            ],
            "image/png": "[encoded data removed]"
          },
          "metadata": {}
        }
      ]
    },
    {
      "cell_type": "code",
      "source": [
        "# 6. ¿Cuál es la hora del día con más compras?\n",
        "hora_mas_compras = df['Hora de compra'].value_counts().idxmax()\n",
        "print(f\"6. Hora con más compras: {hora_mas_compras}:00 hrs\")"
      ],
      "metadata": {
        "colab": {
          "base_uri": "https://localhost:8080/"
        },
        "id": "slhqQXWX1dwU",
        "outputId": "68205b62-e6ce-4c61-d5b8-89dea1bc3bff"
      },
      "execution_count": null,
      "outputs": [
        {
          "output_type": "stream",
          "name": "stdout",
          "text": [
            "6. Hora con más compras: 12:00 hrs\n"
          ]
        }
      ]
    },
    {
      "cell_type": "code",
      "source": [
        "# 7. ¿Qué cliente compró más unidades?\n",
        "cliente_top = df.groupby(['Nombre', 'Apellido'])['Cantidad'].sum().idxmax()\n",
        "unidades_cliente_top = df.groupby(['Nombre', 'Apellido'])['Cantidad'].sum().max()\n",
        "print(f\"7. Cliente que compró más unidades: {cliente_top} ({unidades_cliente_top} unidades)\")"
      ],
      "metadata": {
        "colab": {
          "base_uri": "https://localhost:8080/"
        },
        "id": "OPLSxLoj1g-p",
        "outputId": "c13f245b-90c9-42c0-eef7-11e74e557162"
      },
      "execution_count": null,
      "outputs": [
        {
          "output_type": "stream",
          "name": "stdout",
          "text": [
            "7. Cliente que compró más unidades: ('Desconocido', 'Desconocido') (66.0 unidades)\n"
          ]
        }
      ]
    },
    {
      "cell_type": "code",
      "source": [
        "# 8. ¿Cuántas compras tienen un valor total mayor a $5.000.000?\n",
        "compras_mayores_5m = df[df['Valor Total'] > 5000000].shape[0]\n",
        "print(f\"8. Compras con valor total > $5M: {compras_mayores_5m}\")"
      ],
      "metadata": {
        "colab": {
          "base_uri": "https://localhost:8080/"
        },
        "id": "GgfcGZga1kIc",
        "outputId": "a972aa1a-9dd9-449f-98ee-3f0785b365db"
      },
      "execution_count": null,
      "outputs": [
        {
          "output_type": "stream",
          "name": "stdout",
          "text": [
            "8. Compras con valor total > $5M: 1327\n"
          ]
        }
      ]
    },
    {
      "cell_type": "code",
      "source": [
        "# 9. ¿Cuál es la media y mediana del Valor Unitario?\n",
        "media_valor_unitario = df['Valor Unitario'].mean()\n",
        "mediana_valor_unitario = df['Valor Unitario'].median()\n",
        "print(f\"9. Media del Valor Unitario: ${media_valor_unitario:,.2f}\")\n",
        "print(f\"   Mediana del Valor Unitario: ${mediana_valor_unitario:,.2f}\")"
      ],
      "metadata": {
        "colab": {
          "base_uri": "https://localhost:8080/"
        },
        "id": "bc4Yxhtt1mdm",
        "outputId": "a9ff984f-5712-4a36-ee03-e822067d6946"
      },
      "execution_count": null,
      "outputs": [
        {
          "output_type": "stream",
          "name": "stdout",
          "text": [
            "9. Media del Valor Unitario: $687,614.19\n",
            "   Mediana del Valor Unitario: $400,000.00\n"
          ]
        }
      ]
    },
    {
      "cell_type": "code",
      "source": [
        "# 10. ¿Cuántas compras no tienen registrado el nombre del cliente?\n",
        "compras_sin_nombre = df[df['Nombre'].isna() | (df['Nombre'] == \"Desconocido\")].shape[0]\n",
        "print(f\"10. Compras sin nombre registrado: {compras_sin_nombre}\")"
      ],
      "metadata": {
        "colab": {
          "base_uri": "https://localhost:8080/"
        },
        "id": "IHezgpZk1oxN",
        "outputId": "96faba84-71a5-459e-c970-cd4ffa406257"
      },
      "execution_count": null,
      "outputs": [
        {
          "output_type": "stream",
          "name": "stdout",
          "text": [
            "10. Compras sin nombre registrado: 21\n"
          ]
        }
      ]
    },
    {
      "cell_type": "code",
      "source": [
        "# 11. ¿Cuál es el producto más común entre las compras duplicadas?\n",
        "duplicados = df[df.duplicated(subset=['Electrodoméstico', 'Cantidad', 'Valor Unitario'], keep=False)]\n",
        "producto_duplicado = duplicados['Electrodoméstico'].mode()[0]\n",
        "print(f\"11. Producto más común en compras duplicadas: {producto_duplicado}\")"
      ],
      "metadata": {
        "colab": {
          "base_uri": "https://localhost:8080/"
        },
        "id": "7TU0WnN21q8-",
        "outputId": "4eec6e43-cb69-489e-a205-c21a02945ae2"
      },
      "execution_count": null,
      "outputs": [
        {
          "output_type": "stream",
          "name": "stdout",
          "text": [
            "11. Producto más común en compras duplicadas: Plancha\n"
          ]
        }
      ]
    },
    {
      "cell_type": "code",
      "source": [
        "# 12. ¿Hay alguna relación entre la cantidad comprada y el valor total?\n",
        "correlacion = df['Cantidad'].corr(df['Valor Total'])\n",
        "print(f\"12. Correlación entre cantidad y valor total: {correlacion:.2f}\")"
      ],
      "metadata": {
        "colab": {
          "base_uri": "https://localhost:8080/"
        },
        "id": "t826sHFG1s0Z",
        "outputId": "6d40cf11-3607-4451-b38a-1718c69366a7"
      },
      "execution_count": null,
      "outputs": [
        {
          "output_type": "stream",
          "name": "stdout",
          "text": [
            "12. Correlación entre cantidad y valor total: 0.47\n"
          ]
        }
      ]
    },
    {
      "cell_type": "code",
      "source": [
        "# 13. ¿Cuántas categorías de electrodomésticos hay?\n",
        "categorias_unicas = df['Categoría Electrodoméstico'].nunique()\n",
        "print(f\"13. Categorías de electrodomésticos: {categorias_unicas}\")"
      ],
      "metadata": {
        "colab": {
          "base_uri": "https://localhost:8080/"
        },
        "id": "quryxLEh1uBS",
        "outputId": "92d6e1e9-c04b-4e89-c25a-ec5662e89ff7"
      },
      "execution_count": null,
      "outputs": [
        {
          "output_type": "stream",
          "name": "stdout",
          "text": [
            "13. Categorías de electrodomésticos: 5\n"
          ]
        }
      ]
    },
    {
      "cell_type": "code",
      "source": [
        "# 14. ¿Qué categoría vende más?\n",
        "categoria_top = df.groupby('Categoría Electrodoméstico')['Cantidad'].sum().idxmax()\n",
        "print(f\"14. Categoría con más ventas: {categoria_top}\")"
      ],
      "metadata": {
        "colab": {
          "base_uri": "https://localhost:8080/"
        },
        "id": "UFzS5-hd1vKQ",
        "outputId": "9af9f1e3-38e2-48fe-a4cd-33c1813bd48d"
      },
      "execution_count": null,
      "outputs": [
        {
          "output_type": "stream",
          "name": "stdout",
          "text": [
            "14. Categoría con más ventas: Cocina\n"
          ]
        }
      ]
    },
    {
      "cell_type": "code",
      "source": [
        "# 15. ¿Hay estacionalidad en las compras? ¿En qué meses se compra más?\n",
        "mes_mas_compras = df['Mes de compra'].value_counts().idxmax()\n",
        "print(f\"15. Mes con más compras: {mes_mas_compras}\")"
      ],
      "metadata": {
        "colab": {
          "base_uri": "https://localhost:8080/"
        },
        "id": "xJayymHm1wNZ",
        "outputId": "c54ea9ea-dabf-451f-aa7c-7c03cbd19edf"
      },
      "execution_count": null,
      "outputs": [
        {
          "output_type": "stream",
          "name": "stdout",
          "text": [
            "15. Mes con más compras: 8\n"
          ]
        }
      ]
    },
    {
      "cell_type": "code",
      "source": [
        "# 16. ¿Cuál es la proporción entre compras de lavadoras y neveras?\n",
        "lavadoras = df[df['Electrodoméstico'].str.contains('Lavadora', na=False)]['Cantidad'].sum()\n",
        "neveras = df[df['Electrodoméstico'].str.contains('Nevera', na=False)]['Cantidad'].sum()\n",
        "proporcion_lavadoras_neveras = lavadoras / neveras if neveras > 0 else 0\n",
        "plt.figure(figsize=(5, 5))\n",
        "lavadoras = df[df['Electrodoméstico'].str.contains('Lavadora', na=False)]['Cantidad'].sum()\n",
        "neveras = df[df['Electrodoméstico'].str.contains('Nevera', na=False)]['Cantidad'].sum()\n",
        "plt.pie([lavadoras, neveras], labels=['Lavadoras', 'Neveras'], autopct='%1.1f%%', colors=['blue', 'red'])\n",
        "plt.title(\"Proporción Lavadoras vs Neveras\")\n",
        "plt.show()\n",
        "\n",
        "print(\"Análisis y visualización de datos completados.\")"
      ],
      "metadata": {
        "colab": {
          "base_uri": "https://localhost:8080/",
          "height": 461
        },
        "id": "kY6EUYGt1xIE",
        "outputId": "1d97dc61-20e7-4241-a9f4-a107cf9e28bf"
      },
      "execution_count": null,
      "outputs": [
        {
          "output_type": "display_data",
          "data": {
            "text/plain": [
              "<Figure size 500x500 with 1 Axes>"
            ],
            "image/png": "[encoded data removed]"
          },
          "metadata": {}
        },
        {
          "output_type": "stream",
          "name": "stdout",
          "text": [
            "Análisis y visualización de datos completados.\n"
          ]
        }
      ]
    },
    {
      "cell_type": "code",
      "source": [
        "# 17. ¿Cuántas compras hay de productos de cocina vs. climatización?\n",
        "compras_cocina = df[df['Categoría Electrodoméstico'] == 'Cocina']['Cantidad'].sum()\n",
        "compras_climatizacion = df[df['Categoría Electrodoméstico'] == 'Confort']['Cantidad'].sum()\n",
        "print(f\"17. Compras Cocina: {compras_cocina}, Compras Climatización: {compras_climatizacion}\")"
      ],
      "metadata": {
        "colab": {
          "base_uri": "https://localhost:8080/"
        },
        "id": "T2lOqVGS1yMT",
        "outputId": "b43456b7-f140-4696-98d0-ec4516d24b75"
      },
      "execution_count": null,
      "outputs": [
        {
          "output_type": "stream",
          "name": "stdout",
          "text": [
            "17. Compras Cocina: 10239.0, Compras Climatización: 3243.0\n"
          ]
        }
      ]
    },
    {
      "cell_type": "code",
      "source": [
        "# 18. ¿Cuántos productos se vendieron en total?\n",
        "productos_totales = df['Cantidad'].sum()\n",
        "print(f\"18. Total de productos vendidos: {productos_totales}\")"
      ],
      "metadata": {
        "colab": {
          "base_uri": "https://localhost:8080/"
        },
        "id": "M0AZaTht1zF1",
        "outputId": "3f0eb95b-10bd-4664-d41c-b94ccfd538f8"
      },
      "execution_count": null,
      "outputs": [
        {
          "output_type": "stream",
          "name": "stdout",
          "text": [
            "18. Total de productos vendidos: 33594.0\n"
          ]
        }
      ]
    },
    {
      "cell_type": "code",
      "source": [
        "# 19. ¿Cuál es el promedio de productos por compra?\n",
        "productos_por_compra = df['Cantidad'].mean()\n",
        "print(f\"19. Promedio de productos por compra: {productos_por_compra:.2f}\")"
      ],
      "metadata": {
        "colab": {
          "base_uri": "https://localhost:8080/"
        },
        "id": "eHYFxl9h1z9N",
        "outputId": "882b5419-8fcd-4b9a-83a8-823996cfb8d6"
      },
      "execution_count": null,
      "outputs": [
        {
          "output_type": "stream",
          "name": "stdout",
          "text": [
            "19. Promedio de productos por compra: 2.98\n"
          ]
        }
      ]
    },
    {
      "cell_type": "code",
      "source": [
        "# 20. ¿Qué porcentaje de las compras tiene más de una unidad?\n",
        "compras_mas_de_una = df[df['Cantidad'] > 1].shape[0]\n",
        "total_compras = df.shape[0]\n",
        "porcentaje_mas_de_una = (compras_mas_de_una / total_compras) * 100\n",
        "print(f\"20. Porcentaje de compras con más de una unidad: {porcentaje_mas_de_una:.2f}%\")"
      ],
      "metadata": {
        "colab": {
          "base_uri": "https://localhost:8080/"
        },
        "id": "ri18cWp010yN",
        "outputId": "99ad7ead-0f36-4f9d-90c6-6dd501f48023"
      },
      "execution_count": null,
      "outputs": [
        {
          "output_type": "stream",
          "name": "stdout",
          "text": [
            "20. Porcentaje de compras con más de una unidad: 79.59%\n"
          ]
        }
      ]
    },
    {
      "cell_type": "code",
      "source": [
        "# 1. ¿Qué productos debería promocionar la empresa en temporadas altas?\n",
        "compras_por_mes = df['Mes de compra'].value_counts().sort_index()\n",
        "mes_mas_compras = compras_por_mes.idxmax()\n",
        "mas_vendido = df.groupby('Electrodoméstico')['Cantidad'].sum().idxmax()\n",
        "print(f\"Mes con más compras: {mes_mas_compras}\")\n",
        "print(f\"Producto recomendado para promocionar: {mas_vendido}\")"
      ],
      "metadata": {
        "colab": {
          "base_uri": "https://localhost:8080/"
        },
        "id": "23jlfK3hj2ga",
        "outputId": "b6c84abf-539b-4469-88f5-4e8e27dba2ed"
      },
      "execution_count": null,
      "outputs": [
        {
          "output_type": "stream",
          "name": "stdout",
          "text": [
            "Mes con más compras: 8\n",
            "Producto recomendado para promocionar: Plancha\n"
          ]
        }
      ]
    },
    {
      "cell_type": "code",
      "source": [
        "# 2. ¿Hay clientes frecuentes o con tickets altos a los que se podría fidelizar?\n",
        "clientes_frecuentes = df.groupby(['Nombre', 'Apellido'])['Valor Total'].sum().reset_index()\n",
        "clientes_frecuentes = clientes_frecuentes.sort_values(by='Valor Total', ascending=False).head(10)\n",
        "plt.figure(figsize=(10, 6))\n",
        "sns.barplot(data=clientes_frecuentes, x='Valor Total', y='Nombre', orient='h')\n",
        "plt.title('Clientes con mayor gasto')\n",
        "plt.show()"
      ],
      "metadata": {
        "colab": {
          "base_uri": "https://localhost:8080/",
          "height": 394
        },
        "id": "BcG3iMzcki2r",
        "outputId": "446ec366-6710-4bf6-899d-af1db683e7c2"
      },
      "execution_count": null,
      "outputs": [
        {
          "output_type": "display_data",
          "data": {
            "text/plain": [
              "<Figure size 1000x600 with 1 Axes>"
            ],
            "image/png": "[encoded data removed]"
          },
          "metadata": {}
        }
      ]
    },
    {
      "cell_type": "code",
      "source": [
        "# 3. ¿Vale la pena mantener todos los productos en el portafolio?\n",
        "ventas_por_producto = df.groupby('Electrodoméstico')['Cantidad'].sum().sort_values()\n",
        "print(\"Productos con menos ventas:\")\n",
        "print(ventas_por_producto.head(5))"
      ],
      "metadata": {
        "colab": {
          "base_uri": "https://localhost:8080/"
        },
        "id": "Ijw2WjpgktQ9",
        "outputId": "f60e9df7-6e17-4ef9-ea60-00ce796a5c95"
      },
      "execution_count": null,
      "outputs": [
        {
          "output_type": "stream",
          "name": "stdout",
          "text": [
            "Productos con menos ventas:\n",
            "Electrodoméstico\n",
            "Horno eléctrico    3194.0\n",
            "Ventilador         3243.0\n",
            "Televisor          3276.0\n",
            "Aspiradora         3346.0\n",
            "Lavadora           3355.0\n",
            "Name: Cantidad, dtype: float64\n"
          ]
        }
      ]
    },
    {
      "cell_type": "code",
      "source": [
        "# 4. ¿Debería la empresa reforzar su logística en ciertos meses?\n",
        "sns.lineplot(x=compras_por_mes.index, y=compras_por_mes.values)\n",
        "plt.title(\"Compras por mes\")\n",
        "plt.xlabel(\"Mes\")\n",
        "plt.ylabel(\"Cantidad de compras\")\n",
        "plt.show()\n"
      ],
      "metadata": {
        "colab": {
          "base_uri": "https://localhost:8080/",
          "height": 472
        },
        "id": "IPM9rcNVkyUP",
        "outputId": "e3899f01-0295-4522-c340-babbc4095395"
      },
      "execution_count": null,
      "outputs": [
        {
          "output_type": "display_data",
          "data": {
            "text/plain": [
              "<Figure size 640x480 with 1 Axes>"
            ],
            "image/png": "[encoded data removed]"
          },
          "metadata": {}
        }
      ]
    },
    {
      "cell_type": "code",
      "source": [
        "# 5. ¿Hay productos que parecen propensos a errores de registro?\n",
        "duplicados = df[df.duplicated(subset=['Electrodoméstico', 'Cantidad', 'Valor Unitario'], keep=False)]\n",
        "producto_duplicado = duplicados['Electrodoméstico'].mode()[0]\n",
        "print(f\"Producto más común en compras duplicadas: {producto_duplicado}\")"
      ],
      "metadata": {
        "colab": {
          "base_uri": "https://localhost:8080/"
        },
        "id": "DAPOBTjSk0cw",
        "outputId": "640bc050-d0d1-459a-90e4-dc40e820fa03"
      },
      "execution_count": null,
      "outputs": [
        {
          "output_type": "stream",
          "name": "stdout",
          "text": [
            "Producto más común en compras duplicadas: Plancha\n"
          ]
        }
      ]
    },
    {
      "cell_type": "code",
      "source": [
        "# 6. ¿Se puede usar esta información para proyecciones de stock?\n",
        "sns.barplot(x=df['Mes de compra'], y=df['Cantidad'])\n",
        "plt.title(\"Cantidad de productos vendidos por mes\")\n",
        "plt.xlabel(\"Mes\")\n",
        "plt.ylabel(\"Cantidad\")\n",
        "plt.show()"
      ],
      "metadata": {
        "colab": {
          "base_uri": "https://localhost:8080/",
          "height": 472
        },
        "id": "ADobY9gUk8QP",
        "outputId": "5736ce37-d449-46a0-d3f8-52c11a0f640b"
      },
      "execution_count": null,
      "outputs": [
        {
          "output_type": "display_data",
          "data": {
            "text/plain": [
              "<Figure size 640x480 with 1 Axes>"
            ],
            "image/png": "[encoded data removed]"
          },
          "metadata": {}
        }
      ]
    },
    {
      "cell_type": "code",
      "source": [
        "# 7. ¿Qué productos podrían formar parte de combos?\n",
        "categorias_top = df.groupby('Categoría Electrodoméstico')['Cantidad'].sum().sort_values(ascending=False)\n",
        "print(\"Categorías más vendidas para posibles combos:\")\n",
        "print(categorias_top.head(3))"
      ],
      "metadata": {
        "colab": {
          "base_uri": "https://localhost:8080/"
        },
        "id": "WEdlI3wflAey",
        "outputId": "bd5cc03c-d891-49ff-dc28-42a338402e16"
      },
      "execution_count": null,
      "outputs": [
        {
          "output_type": "stream",
          "name": "stdout",
          "text": [
            "Categorías más vendidas para posibles combos:\n",
            "Categoría Electrodoméstico\n",
            "Cocina      10239.0\n",
            "Otros       10135.0\n",
            "Limpieza     6701.0\n",
            "Name: Cantidad, dtype: float64\n"
          ]
        }
      ]
    },
    {
      "cell_type": "code",
      "source": [
        "# 8. ¿Dónde hay oportunidades de ventas cruzadas?\n",
        "productos_mas_vendidos = df['Electrodoméstico'].value_counts().head(5)\n",
        "print(\"Productos más comprados juntos podrían formar ventas cruzadas:\")\n",
        "print(productos_mas_vendidos)"
      ],
      "metadata": {
        "colab": {
          "base_uri": "https://localhost:8080/"
        },
        "id": "dJ989A3OlDr8",
        "outputId": "6c2eb548-acb5-4400-85db-552dbe7308e0"
      },
      "execution_count": null,
      "outputs": [
        {
          "output_type": "stream",
          "name": "stdout",
          "text": [
            "Productos más comprados juntos podrían formar ventas cruzadas:\n",
            "Electrodoméstico\n",
            "Plancha       1170\n",
            "Microondas    1156\n",
            "Licuadora     1153\n",
            "Nevera        1135\n",
            "Lavadora      1132\n",
            "Name: count, dtype: int64\n"
          ]
        }
      ]
    },
    {
      "cell_type": "code",
      "source": [
        "# 9. ¿Qué franjas horarias podrían usarse para promociones digitales?\n",
        "horas_populares = df.groupby('Hora de compra')['Cantidad'].sum().reset_index()\n",
        "horas_populares = horas_populares.sort_values(by='Cantidad', ascending=False).head(5)\n",
        "plt.figure(figsize=(10, 6))\n",
        "sns.barplot(data=horas_populares, x='Hora de compra', y='Cantidad')\n",
        "plt.title('Franja horaria con más compras')\n",
        "plt.xticks(rotation=45)\n",
        "plt.show()\n"
      ],
      "metadata": {
        "colab": {
          "base_uri": "https://localhost:8080/",
          "height": 424
        },
        "id": "6tylOg4_lHIM",
        "outputId": "1c1df147-17b7-498a-ec74-24672a5413b2"
      },
      "execution_count": null,
      "outputs": [
        {
          "output_type": "display_data",
          "data": {
            "text/plain": [
              "<Figure size 1000x600 with 1 Axes>"
            ],
            "image/png": "[encoded data removed]"
          },
          "metadata": {}
        }
      ]
    },
    {
      "cell_type": "code",
      "source": [
        "# 10. ¿Se podrían automatizar alertas para compras inusuales?\n",
        "compras_altas = df[df['Valor Total'] > 5000000]\n",
        "print(\"Compras con valores inusuales:\")\n",
        "print(compras_altas[['Nombre', 'Apellido', 'Valor Total']])"
      ],
      "metadata": {
        "colab": {
          "base_uri": "https://localhost:8080/"
        },
        "id": "y8jjIW0GlIGn",
        "outputId": "7d7d3615-446f-4ad1-e9e0-532528b5f65e"
      },
      "execution_count": null,
      "outputs": [
        {
          "output_type": "stream",
          "name": "stdout",
          "text": [
            "Compras con valores inusuales:\n",
            "         Nombre    Apellido  Valor Total\n",
            "0        Marcia       Parra    9000000.0\n",
            "4      Ambrosio        Prat    7500000.0\n",
            "5        Roldán       Elías    9000000.0\n",
            "20     Florinda       Cases    6000000.0\n",
            "22       Salomé         Ros    9000000.0\n",
            "...         ...         ...          ...\n",
            "11233    Isidro       Duran    6000000.0\n",
            "11250    Marcia       Parra    9000000.0\n",
            "11254  Ambrosio        Prat    7500000.0\n",
            "11267    Azahar    Figueroa    6000000.0\n",
            "11272  Bautista  Villaverde    7500000.0\n",
            "\n",
            "[1327 rows x 3 columns]\n"
          ]
        }
      ]
    }
  ]
}